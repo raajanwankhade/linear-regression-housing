{
 "cells": [
  {
   "attachments": {},
   "cell_type": "markdown",
   "metadata": {},
   "source": [
    "# Housing Prices General (First Trial Model)"
   ]
  },
  {
   "cell_type": "code",
   "execution_count": 20,
   "metadata": {},
   "outputs": [],
   "source": [
    "import pandas as pd\n",
    "import matplotlib.pyplot as plt\n",
    "import numpy as np"
   ]
  },
  {
   "cell_type": "code",
   "execution_count": 21,
   "metadata": {},
   "outputs": [
    {
     "data": {
      "text/html": [
       "<div>\n",
       "<style scoped>\n",
       "    .dataframe tbody tr th:only-of-type {\n",
       "        vertical-align: middle;\n",
       "    }\n",
       "\n",
       "    .dataframe tbody tr th {\n",
       "        vertical-align: top;\n",
       "    }\n",
       "\n",
       "    .dataframe thead th {\n",
       "        text-align: right;\n",
       "    }\n",
       "</style>\n",
       "<table border=\"1\" class=\"dataframe\">\n",
       "  <thead>\n",
       "    <tr style=\"text-align: right;\">\n",
       "      <th></th>\n",
       "      <th>Unnamed: 0</th>\n",
       "      <th>price</th>\n",
       "      <th>Address</th>\n",
       "      <th>area</th>\n",
       "      <th>latitude</th>\n",
       "      <th>longitude</th>\n",
       "      <th>Bedrooms</th>\n",
       "      <th>Bathrooms</th>\n",
       "      <th>Balcony</th>\n",
       "      <th>Status</th>\n",
       "      <th>neworold</th>\n",
       "      <th>parking</th>\n",
       "      <th>Furnished_status</th>\n",
       "      <th>Lift</th>\n",
       "      <th>Landmarks</th>\n",
       "      <th>type_of_building</th>\n",
       "      <th>desc</th>\n",
       "      <th>Price_sqft</th>\n",
       "    </tr>\n",
       "  </thead>\n",
       "  <tbody>\n",
       "    <tr>\n",
       "      <th>0</th>\n",
       "      <td>0</td>\n",
       "      <td>5600000.0</td>\n",
       "      <td>Noida Extension, Noida, Delhi NCR</td>\n",
       "      <td>1350.0</td>\n",
       "      <td>28.608850</td>\n",
       "      <td>77.460560</td>\n",
       "      <td>3.0</td>\n",
       "      <td>3.0</td>\n",
       "      <td>NaN</td>\n",
       "      <td>Under Construction</td>\n",
       "      <td>New Property</td>\n",
       "      <td>NaN</td>\n",
       "      <td>NaN</td>\n",
       "      <td>2.0</td>\n",
       "      <td>NaN</td>\n",
       "      <td>Flat</td>\n",
       "      <td>\\n\\n\\n                                Welcome ...</td>\n",
       "      <td>4148.148148</td>\n",
       "    </tr>\n",
       "    <tr>\n",
       "      <th>1</th>\n",
       "      <td>1</td>\n",
       "      <td>8800000.0</td>\n",
       "      <td>Sector 79, Gurgaon, Delhi NCR</td>\n",
       "      <td>1490.0</td>\n",
       "      <td>28.374236</td>\n",
       "      <td>76.952416</td>\n",
       "      <td>3.0</td>\n",
       "      <td>3.0</td>\n",
       "      <td>NaN</td>\n",
       "      <td>Ready to Move</td>\n",
       "      <td>New Property</td>\n",
       "      <td>NaN</td>\n",
       "      <td>Semi-Furnished</td>\n",
       "      <td>2.0</td>\n",
       "      <td>NaN</td>\n",
       "      <td>Flat</td>\n",
       "      <td>\\n\\n\\n                                Mapsko M...</td>\n",
       "      <td>5906.040268</td>\n",
       "    </tr>\n",
       "    <tr>\n",
       "      <th>2</th>\n",
       "      <td>2</td>\n",
       "      <td>16500000.0</td>\n",
       "      <td>Vaishali, Ghaziabad, Delhi NCR</td>\n",
       "      <td>2385.0</td>\n",
       "      <td>28.645769</td>\n",
       "      <td>77.385110</td>\n",
       "      <td>4.0</td>\n",
       "      <td>5.0</td>\n",
       "      <td>NaN</td>\n",
       "      <td>Ready to Move</td>\n",
       "      <td>New Property</td>\n",
       "      <td>1.0</td>\n",
       "      <td>Unfurnished</td>\n",
       "      <td>NaN</td>\n",
       "      <td>NaN</td>\n",
       "      <td>Flat</td>\n",
       "      <td>\\n\\n\\n                                This pro...</td>\n",
       "      <td>6918.238994</td>\n",
       "    </tr>\n",
       "    <tr>\n",
       "      <th>3</th>\n",
       "      <td>3</td>\n",
       "      <td>3810000.0</td>\n",
       "      <td>Link Road, F Block, Sector 50, Noida, Uttar Pr...</td>\n",
       "      <td>1050.0</td>\n",
       "      <td>28.566914</td>\n",
       "      <td>77.436434</td>\n",
       "      <td>2.0</td>\n",
       "      <td>2.0</td>\n",
       "      <td>3.0</td>\n",
       "      <td>NaN</td>\n",
       "      <td>New Property</td>\n",
       "      <td>1.0</td>\n",
       "      <td>Unfurnished</td>\n",
       "      <td>2.0</td>\n",
       "      <td>near Gaur Mulberry Mansion</td>\n",
       "      <td>Flat</td>\n",
       "      <td>\\n\\n\\n                                AIG Roya...</td>\n",
       "      <td>3628.571429</td>\n",
       "    </tr>\n",
       "    <tr>\n",
       "      <th>4</th>\n",
       "      <td>4</td>\n",
       "      <td>6200000.0</td>\n",
       "      <td>Jaypee Pavilion Court Sector 128, Noida, Secto...</td>\n",
       "      <td>1350.0</td>\n",
       "      <td>28.520732</td>\n",
       "      <td>77.356491</td>\n",
       "      <td>2.0</td>\n",
       "      <td>2.0</td>\n",
       "      <td>3.0</td>\n",
       "      <td>Ready to Move</td>\n",
       "      <td>Resale</td>\n",
       "      <td>1.0</td>\n",
       "      <td>NaN</td>\n",
       "      <td>3.0</td>\n",
       "      <td>NaN</td>\n",
       "      <td>Flat</td>\n",
       "      <td>\\n\\n\\n                                The prop...</td>\n",
       "      <td>4592.592593</td>\n",
       "    </tr>\n",
       "    <tr>\n",
       "      <th>...</th>\n",
       "      <td>...</td>\n",
       "      <td>...</td>\n",
       "      <td>...</td>\n",
       "      <td>...</td>\n",
       "      <td>...</td>\n",
       "      <td>...</td>\n",
       "      <td>...</td>\n",
       "      <td>...</td>\n",
       "      <td>...</td>\n",
       "      <td>...</td>\n",
       "      <td>...</td>\n",
       "      <td>...</td>\n",
       "      <td>...</td>\n",
       "      <td>...</td>\n",
       "      <td>...</td>\n",
       "      <td>...</td>\n",
       "      <td>...</td>\n",
       "      <td>...</td>\n",
       "    </tr>\n",
       "    <tr>\n",
       "      <th>7733</th>\n",
       "      <td>7733</td>\n",
       "      <td>7900000.0</td>\n",
       "      <td>Indirapuram, Ghaziabad, Delhi NCR</td>\n",
       "      <td>1095.0</td>\n",
       "      <td>28.635272</td>\n",
       "      <td>77.370395</td>\n",
       "      <td>2.0</td>\n",
       "      <td>2.0</td>\n",
       "      <td>NaN</td>\n",
       "      <td>Ready to Move</td>\n",
       "      <td>Resale</td>\n",
       "      <td>NaN</td>\n",
       "      <td>NaN</td>\n",
       "      <td>NaN</td>\n",
       "      <td>NaN</td>\n",
       "      <td>Flat</td>\n",
       "      <td>\\n                    \\n                    \\n...</td>\n",
       "      <td>7214.611872</td>\n",
       "    </tr>\n",
       "    <tr>\n",
       "      <th>7734</th>\n",
       "      <td>7734</td>\n",
       "      <td>4510000.0</td>\n",
       "      <td>Greater Noida, Sector 2, Greater Noida, Delhi NCR</td>\n",
       "      <td>1060.0</td>\n",
       "      <td>28.581431</td>\n",
       "      <td>77.452819</td>\n",
       "      <td>2.0</td>\n",
       "      <td>2.0</td>\n",
       "      <td>3.0</td>\n",
       "      <td>NaN</td>\n",
       "      <td>Resale</td>\n",
       "      <td>NaN</td>\n",
       "      <td>Semi-Furnished</td>\n",
       "      <td>NaN</td>\n",
       "      <td>ek murti chowk</td>\n",
       "      <td>Flat</td>\n",
       "      <td>\\n                    \\n                    \\n...</td>\n",
       "      <td>4254.716981</td>\n",
       "    </tr>\n",
       "    <tr>\n",
       "      <th>7735</th>\n",
       "      <td>7735</td>\n",
       "      <td>7000000.0</td>\n",
       "      <td>Crossings Republik, Ghaziabad, Delhi NCR</td>\n",
       "      <td>1898.0</td>\n",
       "      <td>28.625850</td>\n",
       "      <td>77.435336</td>\n",
       "      <td>4.0</td>\n",
       "      <td>3.0</td>\n",
       "      <td>5.0</td>\n",
       "      <td>Ready to Move</td>\n",
       "      <td>Resale</td>\n",
       "      <td>NaN</td>\n",
       "      <td>NaN</td>\n",
       "      <td>NaN</td>\n",
       "      <td>NaN</td>\n",
       "      <td>Flat</td>\n",
       "      <td>\\n                    \\n                    \\n...</td>\n",
       "      <td>3688.092729</td>\n",
       "    </tr>\n",
       "    <tr>\n",
       "      <th>7736</th>\n",
       "      <td>7736</td>\n",
       "      <td>6500000.0</td>\n",
       "      <td>Raj Nagar Extension, Ghaziabad, Raj Nagar Exte...</td>\n",
       "      <td>1400.0</td>\n",
       "      <td>28.701622</td>\n",
       "      <td>77.430153</td>\n",
       "      <td>3.0</td>\n",
       "      <td>3.0</td>\n",
       "      <td>2.0</td>\n",
       "      <td>Ready to Move</td>\n",
       "      <td>Resale</td>\n",
       "      <td>1.0</td>\n",
       "      <td>NaN</td>\n",
       "      <td>3.0</td>\n",
       "      <td>vvip mall</td>\n",
       "      <td>Flat</td>\n",
       "      <td>\\n                    \\n                    \\n...</td>\n",
       "      <td>4642.857143</td>\n",
       "    </tr>\n",
       "    <tr>\n",
       "      <th>7737</th>\n",
       "      <td>7737</td>\n",
       "      <td>6500000.0</td>\n",
       "      <td>sandal apartment, Shalimar Garden Extension 1,...</td>\n",
       "      <td>1750.0</td>\n",
       "      <td>28.693590</td>\n",
       "      <td>77.344376</td>\n",
       "      <td>3.0</td>\n",
       "      <td>2.0</td>\n",
       "      <td>3.0</td>\n",
       "      <td>Ready to Move</td>\n",
       "      <td>New Property</td>\n",
       "      <td>NaN</td>\n",
       "      <td>NaN</td>\n",
       "      <td>NaN</td>\n",
       "      <td>NaN</td>\n",
       "      <td>Flat</td>\n",
       "      <td>\\n</td>\n",
       "      <td>3714.285714</td>\n",
       "    </tr>\n",
       "  </tbody>\n",
       "</table>\n",
       "<p>7738 rows × 18 columns</p>\n",
       "</div>"
      ],
      "text/plain": [
       "      Unnamed: 0       price  \\\n",
       "0              0   5600000.0   \n",
       "1              1   8800000.0   \n",
       "2              2  16500000.0   \n",
       "3              3   3810000.0   \n",
       "4              4   6200000.0   \n",
       "...          ...         ...   \n",
       "7733        7733   7900000.0   \n",
       "7734        7734   4510000.0   \n",
       "7735        7735   7000000.0   \n",
       "7736        7736   6500000.0   \n",
       "7737        7737   6500000.0   \n",
       "\n",
       "                                                Address    area   latitude  \\\n",
       "0                     Noida Extension, Noida, Delhi NCR  1350.0  28.608850   \n",
       "1                         Sector 79, Gurgaon, Delhi NCR  1490.0  28.374236   \n",
       "2                        Vaishali, Ghaziabad, Delhi NCR  2385.0  28.645769   \n",
       "3     Link Road, F Block, Sector 50, Noida, Uttar Pr...  1050.0  28.566914   \n",
       "4     Jaypee Pavilion Court Sector 128, Noida, Secto...  1350.0  28.520732   \n",
       "...                                                 ...     ...        ...   \n",
       "7733                  Indirapuram, Ghaziabad, Delhi NCR  1095.0  28.635272   \n",
       "7734  Greater Noida, Sector 2, Greater Noida, Delhi NCR  1060.0  28.581431   \n",
       "7735           Crossings Republik, Ghaziabad, Delhi NCR  1898.0  28.625850   \n",
       "7736  Raj Nagar Extension, Ghaziabad, Raj Nagar Exte...  1400.0  28.701622   \n",
       "7737  sandal apartment, Shalimar Garden Extension 1,...  1750.0  28.693590   \n",
       "\n",
       "      longitude  Bedrooms  Bathrooms  Balcony              Status  \\\n",
       "0     77.460560       3.0        3.0      NaN  Under Construction   \n",
       "1     76.952416       3.0        3.0      NaN       Ready to Move   \n",
       "2     77.385110       4.0        5.0      NaN       Ready to Move   \n",
       "3     77.436434       2.0        2.0      3.0                 NaN   \n",
       "4     77.356491       2.0        2.0      3.0       Ready to Move   \n",
       "...         ...       ...        ...      ...                 ...   \n",
       "7733  77.370395       2.0        2.0      NaN       Ready to Move   \n",
       "7734  77.452819       2.0        2.0      3.0                 NaN   \n",
       "7735  77.435336       4.0        3.0      5.0       Ready to Move   \n",
       "7736  77.430153       3.0        3.0      2.0       Ready to Move   \n",
       "7737  77.344376       3.0        2.0      3.0       Ready to Move   \n",
       "\n",
       "          neworold  parking Furnished_status  Lift  \\\n",
       "0     New Property      NaN              NaN   2.0   \n",
       "1     New Property      NaN   Semi-Furnished   2.0   \n",
       "2     New Property      1.0      Unfurnished   NaN   \n",
       "3     New Property      1.0      Unfurnished   2.0   \n",
       "4           Resale      1.0              NaN   3.0   \n",
       "...            ...      ...              ...   ...   \n",
       "7733        Resale      NaN              NaN   NaN   \n",
       "7734        Resale      NaN   Semi-Furnished   NaN   \n",
       "7735        Resale      NaN              NaN   NaN   \n",
       "7736        Resale      1.0              NaN   3.0   \n",
       "7737  New Property      NaN              NaN   NaN   \n",
       "\n",
       "                       Landmarks type_of_building  \\\n",
       "0                            NaN             Flat   \n",
       "1                            NaN             Flat   \n",
       "2                            NaN             Flat   \n",
       "3     near Gaur Mulberry Mansion             Flat   \n",
       "4                            NaN             Flat   \n",
       "...                          ...              ...   \n",
       "7733                         NaN             Flat   \n",
       "7734              ek murti chowk             Flat   \n",
       "7735                         NaN             Flat   \n",
       "7736                   vvip mall             Flat   \n",
       "7737                         NaN             Flat   \n",
       "\n",
       "                                                   desc   Price_sqft  \n",
       "0     \\n\\n\\n                                Welcome ...  4148.148148  \n",
       "1     \\n\\n\\n                                Mapsko M...  5906.040268  \n",
       "2     \\n\\n\\n                                This pro...  6918.238994  \n",
       "3     \\n\\n\\n                                AIG Roya...  3628.571429  \n",
       "4     \\n\\n\\n                                The prop...  4592.592593  \n",
       "...                                                 ...          ...  \n",
       "7733  \\n                    \\n                    \\n...  7214.611872  \n",
       "7734  \\n                    \\n                    \\n...  4254.716981  \n",
       "7735  \\n                    \\n                    \\n...  3688.092729  \n",
       "7736  \\n                    \\n                    \\n...  4642.857143  \n",
       "7737                                                 \\n  3714.285714  \n",
       "\n",
       "[7738 rows x 18 columns]"
      ]
     },
     "execution_count": 21,
     "metadata": {},
     "output_type": "execute_result"
    }
   ],
   "source": [
    "df = pd.read_csv(\"Delhi_v2.csv\")\n",
    "df"
   ]
  },
  {
   "cell_type": "code",
   "execution_count": 22,
   "metadata": {},
   "outputs": [
    {
     "data": {
      "text/plain": [
       "array([1.35 , 1.49 , 2.385, ..., 1.898, 1.4  , 1.75 ])"
      ]
     },
     "execution_count": 22,
     "metadata": {},
     "output_type": "execute_result"
    }
   ],
   "source": [
    "#input\n",
    "x=df['area'].values/1000\n",
    "x"
   ]
  },
  {
   "cell_type": "code",
   "execution_count": 23,
   "metadata": {},
   "outputs": [
    {
     "data": {
      "text/plain": [
       "array([0.56, 0.88, 1.65, ..., 0.7 , 0.65, 0.65])"
      ]
     },
     "execution_count": 23,
     "metadata": {},
     "output_type": "execute_result"
    }
   ],
   "source": [
    "#outputs\n",
    "y=df['price'].values/10000000\n",
    "y"
   ]
  },
  {
   "cell_type": "code",
   "execution_count": 24,
   "metadata": {},
   "outputs": [
    {
     "data": {
      "image/png": "[encoded data removed]",
      "text/plain": [
       "<Figure size 432x288 with 1 Axes>"
      ]
     },
     "metadata": {
      "needs_background": "light"
     },
     "output_type": "display_data"
    }
   ],
   "source": [
    "plt.scatter(x, y,marker=\"x\",c=\"r\")\n",
    "plt.title('Housing Prices')\n",
    "plt.show()"
   ]
  },
  {
   "cell_type": "code",
   "execution_count": 49,
   "metadata": {},
   "outputs": [
    {
     "data": {
      "text/plain": [
       "7738"
      ]
     },
     "execution_count": 49,
     "metadata": {},
     "output_type": "execute_result"
    }
   ],
   "source": [
    "m = x.shape[0]\n",
    "m"
   ]
  },
  {
   "cell_type": "code",
   "execution_count": 88,
   "metadata": {},
   "outputs": [],
   "source": [
    "# def get_cost(x,y,w,b):\n",
    "#     error=0\n",
    "#     for i in range(x.shape[0]):\n",
    "#         z = w*x[i]+b\n",
    "#         error += (z-y[i])**2\n",
    "#     J_wb = error/(2*x.shape[0])\n",
    "#     return J_wb\n",
    "\n",
    "def get_cost(x,y,w,b):#vectorised\n",
    "    Z = w*x + b\n",
    "    err = ((Z-y)**2).sum()\n",
    "    cost = err / (2*m)\n",
    "    return cost\n",
    "    \n"
   ]
  },
  {
   "cell_type": "code",
   "execution_count": 89,
   "metadata": {},
   "outputs": [],
   "source": [
    "# def dwdb(x,y,w,b):\n",
    "#     dj_dw = 0\n",
    "#     dj_db = 0\n",
    "#     for i in range(x.shape[0]):\n",
    "#         z = w*x[i]+b\n",
    "#         dj_dw += (z - y[i])*x[i]\n",
    "#         dj_db += (z-y[i])\n",
    "#     dj_dw /= x.shape[0]\n",
    "#     dj_db /= x.shape[0]\n",
    "\n",
    "#     return dj_dw,dj_db\n",
    "\n",
    "def dwdb(x,y,w,b):\n",
    "    Z = w*x+b\n",
    "    dj_dw = np.dot((Z-y),x)/m\n",
    "    dj_db = np.sum(Z-y)/m\n",
    "    return dj_dw,dj_db"
   ]
  },
  {
   "cell_type": "code",
   "execution_count": 90,
   "metadata": {},
   "outputs": [],
   "source": [
    "def grad_desc(x,y,win,bin,alp):\n",
    "    w = win\n",
    "    b = bin\n",
    "    for i in range(10000):\n",
    "        dj_dw,dj_db=dwdb(x,y,w,b)\n",
    "        w = w - alp*dj_dw\n",
    "        b = b - alp*dj_db\n",
    "\n",
    "    J = get_cost(x,y,w,b)\n",
    "    return J,w,b"
   ]
  },
  {
   "cell_type": "code",
   "execution_count": 93,
   "metadata": {},
   "outputs": [
    {
     "name": "stdout",
     "output_type": "stream",
     "text": [
      "(w=0.853077022072127,b=-0.3703542190406663,J=0.07279362044083632)\n"
     ]
    }
   ],
   "source": [
    "w_in = 0.5\n",
    "b_in = 0\n",
    "alpha = 0.01\n",
    "\n",
    "J,w,b = grad_desc(x,y,w_in,b_in,alpha)\n",
    "print(f\"(w={w},b={b},J={J})\")"
   ]
  },
  {
   "cell_type": "code",
   "execution_count": 92,
   "metadata": {},
   "outputs": [
    {
     "data": {
      "text/plain": [
       "[<matplotlib.lines.Line2D at 0x1532af5c220>]"
      ]
     },
     "execution_count": 92,
     "metadata": {},
     "output_type": "execute_result"
    },
    {
     "data": {
      "image/png": "[encoded data removed]",
      "text/plain": [
       "<Figure size 432x288 with 1 Axes>"
      ]
     },
     "metadata": {
      "needs_background": "light"
     },
     "output_type": "display_data"
    }
   ],
   "source": [
    "plt.scatter(x,y,marker=\"x\",c=\"r\")\n",
    "xJ = np.arange(0,10,1)\n",
    "yJ = w*xJ+b\n",
    "plt.plot(xJ,yJ,c=\"y\")"
   ]
  }
 ],
 "metadata": {
  "kernelspec": {
   "display_name": "base",
   "language": "python",
   "name": "python3"
  },
  "language_info": {
   "codemirror_mode": {
    "name": "ipython",
    "version": 3
   },
   "file_extension": ".py",
   "mimetype": "text/x-python",
   "name": "python",
   "nbconvert_exporter": "python",
   "pygments_lexer": "ipython3",
   "version": "3.9.7"
  },
  "orig_nbformat": 4
 },
 "nbformat": 4,
 "nbformat_minor": 2
}
